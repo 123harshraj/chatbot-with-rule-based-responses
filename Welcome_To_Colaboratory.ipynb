{
  "cells": [
    {
      "cell_type": "markdown",
      "metadata": {
        "id": "view-in-github",
        "colab_type": "text"
      },
      "source": [
        "<a href=\"https://colab.research.google.com/github/123harshraj/chatbot-with-rule-based-responses/blob/master/Welcome_To_Colaboratory.ipynb\" target=\"_parent\"><img src=\"https://colab.research.google.com/assets/colab-badge.svg\" alt=\"Open In Colab\"/></a>"
      ]
    },
    {
      "cell_type": "code",
      "source": [
        "import time\n",
        "\n",
        "# Function for the chatbot to ask a question\n",
        "def ask_question(question):\n",
        "    print(\"Chatbot:\", question)\n",
        "    time.sleep(1)  # Simulate a short delay for a more natural conversation\n",
        "\n",
        "# Function for the user to reply to the chatbot\n",
        "def user_reply():\n",
        "    user_input = input(\"You: \")\n",
        "    return user_input\n",
        "\n",
        "# Main conversation loop\n",
        "while True:\n",
        "    # Chatbot asks a question\n",
        "    question = \"What's your favorite food?\"\n",
        "    ask_question(question)\n",
        "\n",
        "    # User replies\n",
        "    user_response = user_reply()\n",
        "    print(\"Chatbot: That's interesting. Do you enjoy cooking it yourself?\")\n",
        "\n",
        "    # User replies\n",
        "    user_response = user_reply()\n",
        "    print(\"Chatbot: Great! Now, tell me, what's your favorite book or author?\")\n",
        "\n",
        "    # User replies\n",
        "    user_response = user_reply()\n",
        "    print(\"Chatbot: Thanks for sharing. Is there any place you'd like to visit someday?\")\n",
        "\n",
        "    # User replies\n",
        "    user_response = user_reply()\n",
        "\n",
        "    # Chatbot responds to the user's answer\n",
        "    print(\"Chatbot: I hope you get to visit there someday! Is there anything else on your mind?\")\n",
        "\n",
        "    # Ask if the user wants to continue the conversation\n",
        "    ask_question(\"Do you want to continue? (yes/no)\")\n",
        "    user_response = user_reply()\n",
        "\n",
        "    if user_response.lower() != \"yes\":\n",
        "        print(\"Chatbot: Okay, goodbye!\")\n",
        "        break\n"
      ],
      "metadata": {
        "id": "636kVr6vhya2",
        "outputId": "df8ede0e-3baa-4638-8632-6b9709c6bbb0",
        "colab": {
          "base_uri": "https://localhost:8080/"
        }
      },
      "execution_count": null,
      "outputs": [
        {
          "output_type": "stream",
          "name": "stdout",
          "text": [
            "Chatbot: What's your favorite food?\n",
            "You: noodles\n",
            "Chatbot: That's interesting. Do you enjoy cooking it yourself?\n",
            "You: yes\n",
            "Chatbot: Great! Now, tell me, what's your favorite book or author?\n",
            "You: gulivers travel\n",
            "Chatbot: Thanks for sharing. Is there any place you'd like to visit someday?\n",
            "You: dubai\n",
            "Chatbot: I hope you get to visit there someday! Is there anything else on your mind?\n",
            "Chatbot: Do you want to continue? (yes/no)\n"
          ]
        }
      ]
    }
  ],
  "metadata": {
    "colab": {
      "name": "Welcome To Colaboratory",
      "toc_visible": true,
      "provenance": [],
      "include_colab_link": true
    },
    "kernelspec": {
      "display_name": "Python 3",
      "name": "python3"
    }
  },
  "nbformat": 4,
  "nbformat_minor": 0
}